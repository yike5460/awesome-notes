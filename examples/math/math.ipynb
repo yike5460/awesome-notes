{
 "cells": [
  {
   "cell_type": "code",
   "execution_count": null,
   "metadata": {},
   "outputs": [],
   "source": [
    "# Table of Contents"
   ]
  },
  {
   "cell_type": "markdown",
   "metadata": {},
   "source": [
    "### binary cross-entropy loss\n",
    "The term \"binary cross-entropy\" refers to a specific loss function commonly used in binary classification tasks, especially in the context of machine learning and neural networks.\n",
    "\n",
    "Here's a breakdown of the technical terms:\n",
    "\n",
    "- Binary: In this context, \"binary\" refers to a classification problem with two possible outcomes or classes.\n",
    "\n",
    "- Cross-Entropy: Cross-entropy is a measure of the difference between two probability distributions. In the context of binary classification, it quantifies the difference between the predicted probability distribution and the actual distribution of the target class.\n",
    "\n",
    "The binary cross-entropy loss function is particularly well-suited for binary classification tasks, where the goal is to minimize the difference between the predicted probabilities and the actual binary outcomes. It is widely used in training neural networks for tasks such as image classification, sentiment analysis, and medical diagnosis."
   ]
  },
  {
   "cell_type": "code",
   "execution_count": 3,
   "metadata": {},
   "outputs": [
    {
     "name": "stdout",
     "output_type": "stream",
     "text": [
      "Binary Cross-Entropy Loss (PyTorch): 0.18388254940509796\n"
     ]
    }
   ],
   "source": [
    "import torch\n",
    "import torch.nn as nn\n",
    "\n",
    "# Define true labels and predicted probabilities\n",
    "y_true = torch.tensor([1., 0., 1.])\n",
    "y_pred = torch.tensor([0.9, 0.2, 0.8])\n",
    "\n",
    "# Create a BCELoss loss object\n",
    "bce_loss = nn.BCELoss()\n",
    "\n",
    "# Calculate the loss\n",
    "loss = bce_loss(y_pred, y_true)\n",
    "print(f\"Binary Cross-Entropy Loss (PyTorch): {loss.item()}\")"
   ]
  },
  {
   "cell_type": "code",
   "execution_count": null,
   "metadata": {},
   "outputs": [],
   "source": []
  }
 ],
 "metadata": {
  "kernelspec": {
   "display_name": "py310",
   "language": "python",
   "name": "python3"
  },
  "language_info": {
   "codemirror_mode": {
    "name": "ipython",
    "version": 3
   },
   "file_extension": ".py",
   "mimetype": "text/x-python",
   "name": "python",
   "nbconvert_exporter": "python",
   "pygments_lexer": "ipython3",
   "version": "3.10.14"
  }
 },
 "nbformat": 4,
 "nbformat_minor": 2
}
