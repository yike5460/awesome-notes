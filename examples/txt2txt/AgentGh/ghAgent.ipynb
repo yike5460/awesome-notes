{
 "cells": [
  {
   "cell_type": "code",
   "execution_count": 5,
   "metadata": {},
   "outputs": [],
   "source": [
    "import os\n",
    "\n",
    "from langchain.agents import AgentType, initialize_agent\n",
    "from langchain_community.agent_toolkits.github.toolkit import GitHubToolkit\n",
    "from langchain_community.utilities.github import GitHubAPIWrapper\n",
    "from langchain_community.chat_models import ChatOpenAI"
   ]
  },
  {
   "cell_type": "code",
   "execution_count": 15,
   "metadata": {},
   "outputs": [],
   "source": [
    "# Load env vars from .env file\n",
    "from dotenv import load_dotenv\n",
    "load_dotenv()\n",
    "\n",
    "os.environ[\"GITHUB_APP_ID\"] = os.getenv(\"GITHUB_APP_ID\")\n",
    "os.environ[\"GITHUB_APP_PRIVATE_KEY\"] = os.getenv(\"GITHUB_APP_PRIVATE_KEY\")\n",
    "os.environ[\"GITHUB_REPOSITORY\"] = os.getenv(\"GITHUB_REPOSITORY\")\n",
    "os.environ[\"GITHUB_BRANCH\"] = os.getenv(\"GITHUB_BRANCH\")\n",
    "os.environ[\"GITHUB_BASE_BRANCH\"] = os.getenv(\"GITHUB_BASE_BRANCH\")\n",
    "\n",
    "# This example also requires an OpenAI API key\n",
    "os.environ[\"OPENAI_API_KEY\"] = os.getenv(\"OPENAI_API_KEY\")\n",
    "os.environ[\"OPENAI_BASE_URL\"] = os.getenv(\"OPENAI_BASE_URL\")"
   ]
  },
  {
   "cell_type": "code",
   "execution_count": 20,
   "metadata": {},
   "outputs": [
    {
     "name": "stdout",
     "output_type": "stream",
     "text": [
      "Available tools:\n",
      "\tGet Issues\n",
      "\tGet Issue\n",
      "\tComment on Issue\n",
      "\tList open pull requests (PRs)\n",
      "\tGet Pull Request\n",
      "\tOverview of files included in PR\n",
      "\tCreate Pull Request\n",
      "\tList Pull Requests' Files\n",
      "\tCreate File\n",
      "\tRead File\n",
      "\tUpdate File\n",
      "\tDelete File\n",
      "\tOverview of existing files in Main branch\n",
      "\tOverview of files in current working branch\n",
      "\tList branches in this repository\n",
      "\tSet active branch\n",
      "\tCreate a new branch\n",
      "\tGet files from a directory\n",
      "\tSearch issues and pull requests\n",
      "\tSearch code\n",
      "\tCreate review request\n"
     ]
    }
   ],
   "source": [
    "llm = ChatOpenAI(temperature=0, model=\"gpt-4-1106-preview\")\n",
    "github = GitHubAPIWrapper()\n",
    "toolkit = GitHubToolkit.from_github_api_wrapper(github)\n",
    "tools = toolkit.get_tools()\n",
    "\n",
    "# STRUCTURED_CHAT includes args_schema for each tool, helps tool args parsing errors.\n",
    "agent = initialize_agent(\n",
    "    tools,\n",
    "    llm,\n",
    "    agent=AgentType.STRUCTURED_CHAT_ZERO_SHOT_REACT_DESCRIPTION,\n",
    "    verbose=True,\n",
    ")\n",
    "print(\"Available tools:\")\n",
    "for tool in tools:\n",
    "    print(\"\\t\" + tool.name)"
   ]
  },
  {
   "cell_type": "code",
   "execution_count": 22,
   "metadata": {},
   "outputs": [
    {
     "name": "stdout",
     "output_type": "stream",
     "text": [
      "\n",
      "\n",
      "\u001b[1m> Entering new AgentExecutor chain...\u001b[0m\n",
      "\u001b[32;1m\u001b[1;3mAction:\n",
      "```json\n",
      "{\n",
      "  \"action\": \"Get Issues\",\n",
      "  \"action_input\": {}\n",
      "}\n",
      "```\n",
      "Observation:\u001b[0m\n",
      "Observation: \u001b[36;1m\u001b[1;3mFound 1 issues:\n",
      "[{'title': 'Update the README file ', 'number': 1, 'opened_by': 'yike5460'}]\u001b[0m\n",
      "Thought:\u001b[32;1m\u001b[1;3mThought: I need to retrieve the list of existing issues to describe them as per the user's request.\n",
      "\n",
      "Action:\n",
      "```json\n",
      "{\n",
      "  \"action\": \"Get Issues\",\n",
      "  \"action_input\": {}\n",
      "}\n",
      "```\u001b[0m\n",
      "Observation: \u001b[36;1m\u001b[1;3mFound 1 issues:\n",
      "[{'title': 'Update the README file ', 'number': 1, 'opened_by': 'yike5460'}]\u001b[0m\n",
      "Thought:\u001b[32;1m\u001b[1;3mI am aware of what to respond to the user.\n",
      "Action:\n",
      "```json\n",
      "{\n",
      "  \"action\": \"Final Answer\",\n",
      "  \"action_input\": \"There is currently one issue in the repository titled 'Update the README file' with the issue number 1. It was opened by the user 'yike5460'. Unfortunately, there are no additional details provided here about the issue's content or specific requirements. To better assist with this issue, I would need to retrieve the full details of this issue.\"\n",
      "}\n",
      "```\u001b[0m\n",
      "\n",
      "\u001b[1m> Finished chain.\u001b[0m\n"
     ]
    },
    {
     "data": {
      "text/plain": [
       "\"There is currently one issue in the repository titled 'Update the README file' with the issue number 1. It was opened by the user 'yike5460'. Unfortunately, there are no additional details provided here about the issue's content or specific requirements. To better assist with this issue, I would need to retrieve the full details of this issue.\""
      ]
     },
     "execution_count": 22,
     "metadata": {},
     "output_type": "execute_result"
    }
   ],
   "source": [
    "agent.run(\n",
    "    \"You have the software engineering capabilities of a Google Principle engineer. You are tasked with completing issues on a github repository. Please look at the existing issues and describe them.\"\n",
    ")"
   ]
  },
  {
   "cell_type": "code",
   "execution_count": null,
   "metadata": {},
   "outputs": [],
   "source": []
  }
 ],
 "metadata": {
  "kernelspec": {
   "display_name": "py310",
   "language": "python",
   "name": "python3"
  },
  "language_info": {
   "codemirror_mode": {
    "name": "ipython",
    "version": 3
   },
   "file_extension": ".py",
   "mimetype": "text/x-python",
   "name": "python",
   "nbconvert_exporter": "python",
   "pygments_lexer": "ipython3",
   "version": "3.10.14"
  }
 },
 "nbformat": 4,
 "nbformat_minor": 2
}
